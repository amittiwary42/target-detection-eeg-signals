{
 "cells": [
  {
   "cell_type": "code",
   "execution_count": 1,
   "metadata": {
    "colab": {},
    "colab_type": "code",
    "id": "Y-rb6A6hPI2C"
   },
   "outputs": [
    {
     "name": "stderr",
     "output_type": "stream",
     "text": [
      "Using TensorFlow backend.\n"
     ]
    }
   ],
   "source": [
    "import numpy as np # linear algebra\n",
    "import pandas as pd # data processing, CSV file I/O (e.g. pd.read_csv)\n",
    "import matplotlib.pyplot as plt\n",
    "import os\n",
    "from keras.models import Sequential\n",
    "from keras.layers import *\n",
    "from keras.optimizers import *\n",
    "from keras.metrics import *\n",
    "from keras.callbacks import EarlyStopping, ModelCheckpoint\n",
    "from sklearn.model_selection import train_test_split\n",
    "from sklearn.metrics import *\n",
    "import tensorflow as tf\n",
    "import keras.utils as utils\n",
    "import scipy.io as scipy"
   ]
  },
  {
   "cell_type": "code",
   "execution_count": 2,
   "metadata": {
    "colab": {},
    "colab_type": "code",
    "collapsed": true,
    "id": "YYR7sVxYPI2J"
   },
   "outputs": [],
   "source": [
    "train_0_files = os.listdir('./trainalt/0')\n",
    "train_1_files = os.listdir('./trainalt/1')"
   ]
  },
  {
   "cell_type": "code",
   "execution_count": 3,
   "metadata": {
    "colab": {
     "base_uri": "https://localhost:8080/",
     "height": 102
    },
    "colab_type": "code",
    "executionInfo": {
     "elapsed": 1698,
     "status": "ok",
     "timestamp": 1549568213262,
     "user": {
      "displayName": "AMIT TIWARY",
      "photoUrl": "https://lh4.googleusercontent.com/-89DLdjchEVs/AAAAAAAAAAI/AAAAAAAAAAo/jtB5nq61tAg/s64/photo.jpg",
      "userId": "15098214295944816708"
     },
     "user_tz": -330
    },
    "id": "aW2ZLE2fbD3Q",
    "outputId": "55e6abe1-eb29-40ef-a51a-cf59732d1d73"
   },
   "outputs": [
    {
     "data": {
      "text/plain": [
       "12750"
      ]
     },
     "execution_count": 3,
     "metadata": {},
     "output_type": "execute_result"
    }
   ],
   "source": [
    "len(train_0_files)"
   ]
  },
  {
   "cell_type": "code",
   "execution_count": 4,
   "metadata": {
    "colab": {},
    "colab_type": "code",
    "collapsed": true,
    "id": "5P0DYZGZPI2N"
   },
   "outputs": [],
   "source": [
    "X_train = []\n",
    "y_train = []"
   ]
  },
  {
   "cell_type": "code",
   "execution_count": 5,
   "metadata": {
    "colab": {},
    "colab_type": "code",
    "collapsed": true,
    "id": "Hi7pA0n1PI2P"
   },
   "outputs": [],
   "source": [
    "for file in train_0_files:\n",
    "    path = os.path.join('./trainalt/0',file)\n",
    "    mat = scipy.loadmat(path)\n",
    "    X_train.append(mat['eegdata'])\n",
    "    y_train.append(0)"
   ]
  },
  {
   "cell_type": "code",
   "execution_count": 6,
   "metadata": {
    "colab": {},
    "colab_type": "code",
    "collapsed": true,
    "id": "7zuYqjoQPI2T"
   },
   "outputs": [],
   "source": [
    "for file in train_1_files:\n",
    "    path = os.path.join('./trainalt/1',file)\n",
    "    mat = scipy.loadmat(path)\n",
    "    X_train.append(mat['eegdata'])\n",
    "    y_train.append(1)"
   ]
  },
  {
   "cell_type": "code",
   "execution_count": 7,
   "metadata": {
    "colab": {},
    "colab_type": "code",
    "collapsed": true,
    "id": "Cssqf0nfPI2U"
   },
   "outputs": [],
   "source": [
    "X = np.array(X_train)\n",
    "y = np.array(y_train)"
   ]
  },
  {
   "cell_type": "code",
   "execution_count": 8,
   "metadata": {
    "colab": {
     "base_uri": "https://localhost:8080/",
     "height": 34
    },
    "colab_type": "code",
    "executionInfo": {
     "elapsed": 1122,
     "status": "ok",
     "timestamp": 1549568226443,
     "user": {
      "displayName": "AMIT TIWARY",
      "photoUrl": "https://lh4.googleusercontent.com/-89DLdjchEVs/AAAAAAAAAAI/AAAAAAAAAAo/jtB5nq61tAg/s64/photo.jpg",
      "userId": "15098214295944816708"
     },
     "user_tz": -330
    },
    "id": "C7PX44dYPI2X",
    "outputId": "16468175-ed3b-400e-a2b6-1fe716a617d1"
   },
   "outputs": [
    {
     "data": {
      "text/plain": [
       "(15300, 64, 160)"
      ]
     },
     "execution_count": 8,
     "metadata": {},
     "output_type": "execute_result"
    }
   ],
   "source": [
    "X.shape"
   ]
  },
  {
   "cell_type": "code",
   "execution_count": 9,
   "metadata": {
    "collapsed": true
   },
   "outputs": [],
   "source": [
    "X_train, X_test, y_train, y_test = train_test_split(X, y, test_size=0.20, random_state=42)"
   ]
  },
  {
   "cell_type": "code",
   "execution_count": 10,
   "metadata": {},
   "outputs": [
    {
     "data": {
      "text/plain": [
       "(12240, 64, 160)"
      ]
     },
     "execution_count": 10,
     "metadata": {},
     "output_type": "execute_result"
    }
   ],
   "source": [
    "X_train.shape"
   ]
  },
  {
   "cell_type": "code",
   "execution_count": 11,
   "metadata": {
    "collapsed": true
   },
   "outputs": [],
   "source": [
    "X_train, X_val, y_train, y_val = train_test_split(X_train, y_train, test_size=0.20, random_state=42)"
   ]
  },
  {
   "cell_type": "code",
   "execution_count": 12,
   "metadata": {},
   "outputs": [
    {
     "data": {
      "text/plain": [
       "(9792, 64, 160)"
      ]
     },
     "execution_count": 12,
     "metadata": {},
     "output_type": "execute_result"
    }
   ],
   "source": [
    "X_train.shape"
   ]
  },
  {
   "cell_type": "code",
   "execution_count": 13,
   "metadata": {
    "colab": {},
    "colab_type": "code",
    "collapsed": true,
    "id": "DRf0AeRkPI2g"
   },
   "outputs": [],
   "source": [
    "class DataLoader(utils.Sequence):\n",
    "    def __init__(self, X, Y, batch_size = 64):\n",
    "        self.X = X\n",
    "        self.Y = Y\n",
    "        self.batch_size = batch_size\n",
    "        \n",
    "    def on_epoch_end(self):\n",
    "        perm_inds = np.arange(len(self.X))\n",
    "        np.random.shuffle(perm_inds)\n",
    "        self.X = self.X[perm_inds]\n",
    "        self.Y = self.Y[perm_inds]\n",
    "    \n",
    "    def process(self,y,arr):\n",
    "        #print(y.shape)\n",
    "        for i in range(64):\n",
    "            y[i][0][4]=arr[i][21]\n",
    "            y[i][0][5]=arr[i][22]\n",
    "            y[i][0][6]=arr[i][23]\n",
    "            y[i][1][3]=arr[i][24]\n",
    "            y[i][1][4]=arr[i][25]\n",
    "            y[i][1][5]=arr[i][26]\n",
    "            y[i][1][6]=arr[i][27]\n",
    "            y[i][1][7]=arr[i][28]\n",
    "            y[i][2][1]=arr[i][29]\n",
    "            y[i][2][2]=arr[i][30]\n",
    "            y[i][2][3]=arr[i][31]\n",
    "            y[i][2][4]=arr[i][32]\n",
    "            y[i][2][5]=arr[i][33]\n",
    "            y[i][2][6]=arr[i][34]\n",
    "            y[i][2][7]=arr[i][35]\n",
    "            y[i][2][8]=arr[i][36]\n",
    "            y[i][2][9]=arr[i][37]\n",
    "            y[i][3][1]=arr[i][38]\n",
    "            y[i][3][2]=arr[i][0]\n",
    "            y[i][3][3]=arr[i][1]\n",
    "            y[i][3][4]=arr[i][2]\n",
    "            y[i][3][5]=arr[i][3]\n",
    "            y[i][3][6]=arr[i][4]\n",
    "            y[i][3][7]=arr[i][5]\n",
    "            y[i][3][8]=arr[i][6]\n",
    "            y[i][3][9]=arr[i][39]\n",
    "            y[i][4][0]=arr[i][42]\n",
    "            y[i][4][1]=arr[i][40]\n",
    "            y[i][4][2]=arr[i][7]\n",
    "            y[i][4][3]=arr[i][8]\n",
    "            y[i][4][4]=arr[i][9]\n",
    "            y[i][4][5]=arr[i][10]\n",
    "            y[i][4][6]=arr[i][11]\n",
    "            y[i][4][7]=arr[i][12]\n",
    "            y[i][4][8]=arr[i][13]\n",
    "            y[i][4][9]=arr[i][41]\n",
    "            y[i][4][10]=arr[i][43]\n",
    "            y[i][5][1]=arr[i][44]\n",
    "            y[i][5][2]=arr[i][14]\n",
    "            y[i][5][3]=arr[i][15]\n",
    "            y[i][5][4]=arr[i][16]\n",
    "            y[i][5][5]=arr[i][17]\n",
    "            y[i][5][6]=arr[i][18]\n",
    "            y[i][5][7]=arr[i][19]\n",
    "            y[i][5][8]=arr[i][20]\n",
    "            y[i][5][9]=arr[i][45]\n",
    "            y[i][6][1]=arr[i][46]\n",
    "            y[i][6][2]=arr[i][47]\n",
    "            y[i][6][3]=arr[i][48]\n",
    "            y[i][6][4]=arr[i][49]\n",
    "            y[i][6][5]=arr[i][50]\n",
    "            y[i][6][6]=arr[i][51]\n",
    "            y[i][6][7]=arr[i][52]\n",
    "            y[i][6][8]=arr[i][53]\n",
    "            y[i][6][9]=arr[i][54]\n",
    "            y[i][7][3]=arr[i][55]\n",
    "            y[i][7][4]=arr[i][56]\n",
    "            y[i][7][5]=arr[i][57]\n",
    "            y[i][7][6]=arr[i][58]\n",
    "            y[i][7][7]=arr[i][59]\n",
    "            y[i][8][4]=arr[i][60]\n",
    "            y[i][8][5]=arr[i][61]\n",
    "            y[i][8][6]=arr[i][62]\n",
    "            y[i][9][5]=arr[i][63]\n",
    "        return y\n",
    "    \n",
    "    def __len__(self):\n",
    "        return len(self.X)//self.batch_size\n",
    "    \n",
    "    def __getitem__(self, index):\n",
    "        X_batch = self.X[index*self.batch_size:(index+1)*self.batch_size]\n",
    "        Y_batch = self.Y[index*self.batch_size:(index+1)*self.batch_size]\n",
    "        y = np.zeros((64,10,11,160))\n",
    "        #print(X_batch.shape)\n",
    "        X_batch = self.process(y,X_batch)\n",
    "        X_batch=X_batch.reshape(-1,160,10,11,1)\n",
    "        #print(X_batch.shape)\n",
    "        #X_batch=np.moveaxis(y,3,1)\n",
    "        return X_batch, Y_batch"
   ]
  },
  {
   "cell_type": "code",
   "execution_count": 14,
   "metadata": {
    "collapsed": true
   },
   "outputs": [],
   "source": [
    "def focal_loss(gamma=2., alpha=.25):\n",
    "    def focal_loss_fixed(y_true, y_pred):\n",
    "        pt_1 = tf.where(tf.equal(y_true, 1), y_pred, tf.ones_like(y_pred))\n",
    "        pt_0 = tf.where(tf.equal(y_true, 0), y_pred, tf.zeros_like(y_pred))\n",
    "        return -K.mean(alpha * K.pow(1. - pt_1, gamma) * K.log(pt_1 + K.epsilon()))-K.mean(alpha * K.pow( pt_0, gamma) * K.log(1. - pt_0 + K.epsilon()))\n",
    "    return focal_loss_fixed"
   ]
  },
  {
   "cell_type": "code",
   "execution_count": 15,
   "metadata": {
    "colab": {},
    "colab_type": "code",
    "collapsed": true,
    "id": "E0ZFq0mzd_9E"
   },
   "outputs": [],
   "source": [
    "s = np.zeros((64,160,10,11))\n",
    "s=s[:,:,:,:,None]\n",
    "#s=np.moveaxis(s,3,1)"
   ]
  },
  {
   "cell_type": "code",
   "execution_count": 16,
   "metadata": {
    "colab": {
     "base_uri": "https://localhost:8080/",
     "height": 34
    },
    "colab_type": "code",
    "executionInfo": {
     "elapsed": 1305,
     "status": "ok",
     "timestamp": 1549569337800,
     "user": {
      "displayName": "AMIT TIWARY",
      "photoUrl": "https://lh4.googleusercontent.com/-89DLdjchEVs/AAAAAAAAAAI/AAAAAAAAAAo/jtB5nq61tAg/s64/photo.jpg",
      "userId": "15098214295944816708"
     },
     "user_tz": -330
    },
    "id": "cpqTkXftgon7",
    "outputId": "d5542126-1d07-4169-e89e-123a8e2c9697"
   },
   "outputs": [
    {
     "data": {
      "text/plain": [
       "(64, 160, 10, 11, 1)"
      ]
     },
     "execution_count": 16,
     "metadata": {},
     "output_type": "execute_result"
    }
   ],
   "source": [
    "s.shape"
   ]
  },
  {
   "cell_type": "code",
   "execution_count": 17,
   "metadata": {
    "colab": {
     "base_uri": "https://localhost:8080/",
     "height": 442
    },
    "colab_type": "code",
    "executionInfo": {
     "elapsed": 2577,
     "status": "ok",
     "timestamp": 1549569422221,
     "user": {
      "displayName": "AMIT TIWARY",
      "photoUrl": "https://lh4.googleusercontent.com/-89DLdjchEVs/AAAAAAAAAAI/AAAAAAAAAAo/jtB5nq61tAg/s64/photo.jpg",
      "userId": "15098214295944816708"
     },
     "user_tz": -330
    },
    "id": "VeOKsyC2PI2r",
    "outputId": "4fbd8afc-9f4e-4188-8e92-4e74d1777611"
   },
   "outputs": [
    {
     "name": "stdout",
     "output_type": "stream",
     "text": [
      "_________________________________________________________________\n",
      "Layer (type)                 Output Shape              Param #   \n",
      "=================================================================\n",
      "batch_normalization_1 (Batch (None, 160, 10, 11, 1)    4         \n",
      "_________________________________________________________________\n",
      "conv_lst_m2d_1 (ConvLSTM2D)  (None, 160, 8, 9, 3)      444       \n",
      "_________________________________________________________________\n",
      "activation_1 (Activation)    (None, 160, 8, 9, 3)      0         \n",
      "_________________________________________________________________\n",
      "batch_normalization_2 (Batch (None, 160, 8, 9, 3)      12        \n",
      "_________________________________________________________________\n",
      "conv_lst_m2d_2 (ConvLSTM2D)  (None, 160, 6, 7, 3)      660       \n",
      "_________________________________________________________________\n",
      "batch_normalization_3 (Batch (None, 160, 6, 7, 3)      12        \n",
      "_________________________________________________________________\n",
      "flatten_1 (Flatten)          (None, 20160)             0         \n",
      "_________________________________________________________________\n",
      "dropout_1 (Dropout)          (None, 20160)             0         \n",
      "_________________________________________________________________\n",
      "dense_1 (Dense)              (None, 1)                 20161     \n",
      "=================================================================\n",
      "Total params: 21,293\n",
      "Trainable params: 21,279\n",
      "Non-trainable params: 14\n",
      "_________________________________________________________________\n"
     ]
    }
   ],
   "source": [
    "#ConvLSTM Model\n",
    "batch_size = 64\n",
    "model = Sequential()\n",
    "\n",
    "#model.compile(optimizer=Adam(lr=0.001), loss='binary_crossentropy')\n",
    "model.add(BatchNormalization(input_shape=s.shape[1:]))\n",
    "model.add(ConvLSTM2D(filters=3,kernel_size=(3,3),dropout=0.2,recurrent_dropout=0.1,return_sequences=True))\n",
    "model.add(Activation('tanh'))\n",
    "model.add(BatchNormalization())\n",
    "model.add(ConvLSTM2D(filters=3,kernel_size=(3,3),dropout=0.2,recurrent_dropout=0.1,return_sequences=True))\n",
    "model.add(BatchNormalization())\n",
    "model.add(Flatten())\n",
    "model.add(Dropout(rate=0.5))\n",
    "model.add(Dense(units=1,activation='sigmoid'))\n",
    "model.summary()"
   ]
  },
  {
   "cell_type": "code",
   "execution_count": 18,
   "metadata": {
    "colab": {
     "base_uri": "https://localhost:8080/",
     "height": 153
    },
    "colab_type": "code",
    "executionInfo": {
     "elapsed": 13739,
     "status": "ok",
     "timestamp": 1549569485652,
     "user": {
      "displayName": "AMIT TIWARY",
      "photoUrl": "https://lh4.googleusercontent.com/-89DLdjchEVs/AAAAAAAAAAI/AAAAAAAAAAo/jtB5nq61tAg/s64/photo.jpg",
      "userId": "15098214295944816708"
     },
     "user_tz": -330
    },
    "id": "Ac_5PnZrPI2x",
    "outputId": "7e5a0b8a-a1fb-4dd5-c778-cf81dee85ecb"
   },
   "outputs": [
    {
     "name": "stdout",
     "output_type": "stream",
     "text": [
      "Epoch 1/500\n",
      "153/153 [==============================] - 174s 1s/step - loss: 0.1373 - val_loss: 0.0926\n",
      "Epoch 2/500\n",
      "153/153 [==============================] - 172s 1s/step - loss: 0.1193 - val_loss: 0.0527\n",
      "Epoch 3/500\n",
      "153/153 [==============================] - 172s 1s/step - loss: 0.0920 - val_loss: 0.0605\n",
      "Epoch 4/500\n",
      "153/153 [==============================] - 172s 1s/step - loss: 0.0730 - val_loss: 0.0555\n",
      "Epoch 5/500\n",
      "153/153 [==============================] - 173s 1s/step - loss: 0.0542 - val_loss: 0.0374\n",
      "Epoch 6/500\n",
      "153/153 [==============================] - 172s 1s/step - loss: 0.0444 - val_loss: 0.0369\n",
      "Epoch 7/500\n",
      "153/153 [==============================] - 171s 1s/step - loss: 0.0380 - val_loss: 0.0325\n",
      "Epoch 8/500\n",
      "153/153 [==============================] - 172s 1s/step - loss: 0.0339 - val_loss: 0.0321\n",
      "Epoch 9/500\n",
      "153/153 [==============================] - 173s 1s/step - loss: 0.0320 - val_loss: 0.0312\n",
      "Epoch 10/500\n",
      "153/153 [==============================] - 172s 1s/step - loss: 0.0309 - val_loss: 0.0307\n",
      "\n",
      "Epoch 00010: saving model to ./checkpointretina/weights.10-0.03.hdf5\n",
      "Epoch 11/500\n",
      "153/153 [==============================] - 173s 1s/step - loss: 0.0303 - val_loss: 0.0305\n",
      "Epoch 12/500\n",
      "153/153 [==============================] - 173s 1s/step - loss: 0.0299 - val_loss: 0.0306\n",
      "Epoch 13/500\n",
      "153/153 [==============================] - 172s 1s/step - loss: 0.0298 - val_loss: 0.0306\n",
      "Epoch 14/500\n",
      "153/153 [==============================] - 172s 1s/step - loss: 0.0297 - val_loss: 0.0302\n",
      "Epoch 15/500\n",
      "153/153 [==============================] - 172s 1s/step - loss: 0.0296 - val_loss: 0.0304\n",
      "Epoch 16/500\n",
      "153/153 [==============================] - 173s 1s/step - loss: 0.0296 - val_loss: 0.0303\n",
      "Epoch 17/500\n",
      "153/153 [==============================] - 172s 1s/step - loss: 0.0296 - val_loss: 0.0303\n",
      "Epoch 18/500\n",
      "153/153 [==============================] - 173s 1s/step - loss: 0.0295 - val_loss: 0.0303\n",
      "Epoch 19/500\n",
      "153/153 [==============================] - 172s 1s/step - loss: 0.0295 - val_loss: 0.0303\n",
      "Epoch 00019: early stopping\n"
     ]
    },
    {
     "data": {
      "text/plain": [
       "<keras.callbacks.History at 0x7fec5cfe66a0>"
      ]
     },
     "execution_count": 18,
     "metadata": {},
     "output_type": "execute_result"
    }
   ],
   "source": [
    "train_loader = DataLoader(X_train, y_train)\n",
    "val_loader = DataLoader(X_val, y_val)\n",
    "model.compile(optimizer=Adam(lr=0.001), loss=[focal_loss(gamma=2., alpha=.25)])\n",
    "model.fit_generator(callbacks=[EarlyStopping(monitor='val_loss', patience=5, verbose=1, mode='auto'), ModelCheckpoint('./checkpointretina/weights.{epoch:02d}-{val_loss:.2f}.hdf5', monitor='val_loss', verbose=1, save_best_only=False, save_weights_only=False, mode='auto', period=10)], validation_data=val_loader, generator = train_loader,use_multiprocessing=True,workers=6, verbose=1, shuffle = True, epochs=500)"
   ]
  },
  {
   "cell_type": "code",
   "execution_count": 19,
   "metadata": {},
   "outputs": [
    {
     "data": {
      "text/plain": [
       "(3060, 160, 10, 11, 1)"
      ]
     },
     "execution_count": 19,
     "metadata": {},
     "output_type": "execute_result"
    }
   ],
   "source": [
    "test_x = DataLoader(X_test, y_test)\n",
    "#model.predict(test_x, batch_size=64, verbose=1)\n",
    "y = np.zeros((len(X_test),10,11,160))\n",
    "\n",
    "y = test_x.process(y,X_test)\n",
    "y=y.reshape(-1,160,10,11,1)\n",
    "y.shape"
   ]
  },
  {
   "cell_type": "code",
   "execution_count": 20,
   "metadata": {},
   "outputs": [
    {
     "name": "stdout",
     "output_type": "stream",
     "text": [
      "3060/3060 [==============================] - 43s 14ms/step\n"
     ]
    }
   ],
   "source": [
    "y_pred = model.predict(y, verbose=1)\n",
    "#for i in range(len(y_pred)):\n",
    "#    if y_pred[i]>=0.5:\n",
    "#        y_pred[i]=1\n",
    "#    else:\n",
    "#        y_pred[i]=0\n",
    "y_pred = y_pred.round()\n",
    "y_pred = y_pred.reshape(-1)\n",
    "y_pred = y_pred.astype(int)\n",
    "\n",
    "#binary_accuracy(y_test, y_pred)"
   ]
  },
  {
   "cell_type": "code",
   "execution_count": 21,
   "metadata": {},
   "outputs": [
    {
     "name": "stdout",
     "output_type": "stream",
     "text": [
      "             precision    recall  f1-score   support\n",
      "\n",
      "          0       0.85      1.00      0.92      2593\n",
      "          1       0.00      0.00      0.00       467\n",
      "\n",
      "avg / total       0.72      0.85      0.78      3060\n",
      "\n"
     ]
    },
    {
     "name": "stderr",
     "output_type": "stream",
     "text": [
      "/home/somsukla/.virtualenvs/virtual-py3/lib/python3.5/site-packages/sklearn/metrics/classification.py:1135: UndefinedMetricWarning: Precision and F-score are ill-defined and being set to 0.0 in labels with no predicted samples.\n",
      "  'precision', 'predicted', average, warn_for)\n"
     ]
    }
   ],
   "source": [
    "print(classification_report(y_test, y_pred))"
   ]
  },
  {
   "cell_type": "code",
   "execution_count": null,
   "metadata": {
    "collapsed": true
   },
   "outputs": [],
   "source": []
  }
 ],
 "metadata": {
  "accelerator": "GPU",
  "colab": {
   "collapsed_sections": [],
   "name": "6th Feb.ipynb",
   "provenance": [],
   "version": "0.3.2"
  },
  "kernelspec": {
   "display_name": "Python 3",
   "language": "python",
   "name": "python3"
  },
  "language_info": {
   "codemirror_mode": {
    "name": "ipython",
    "version": 3
   },
   "file_extension": ".py",
   "mimetype": "text/x-python",
   "name": "python",
   "nbconvert_exporter": "python",
   "pygments_lexer": "ipython3",
   "version": "3.6.3"
  }
 },
 "nbformat": 4,
 "nbformat_minor": 1
}
